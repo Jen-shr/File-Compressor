{
  "nbformat": 4,
  "nbformat_minor": 0,
  "metadata": {
    "colab": {
      "provenance": []
    },
    "kernelspec": {
      "name": "python3",
      "display_name": "Python 3"
    },
    "language_info": {
      "name": "python"
    }
  },
  "cells": [
    {
      "cell_type": "markdown",
      "source": [
        "# **Huffman algorithm to compress and decompress the text**"
      ],
      "metadata": {
        "id": "jTqxHZnBabTH"
      }
    },
    {
      "cell_type": "code",
      "source": [
        "!pip install bitarray"
      ],
      "metadata": {
        "colab": {
          "base_uri": "https://localhost:8080/"
        },
        "id": "Z0ze98cVZiEA",
        "outputId": "1789c418-dded-4acb-f7ef-41081d09d256"
      },
      "execution_count": null,
      "outputs": [
        {
          "output_type": "stream",
          "name": "stdout",
          "text": [
            "Collecting bitarray\n",
            "  Downloading bitarray-2.9.2-cp310-cp310-manylinux_2_17_x86_64.manylinux2014_x86_64.whl (288 kB)\n",
            "\u001b[2K     \u001b[90m━━━━━━━━━━━━━━━━━━━━━━━━━━━━━━━━━━━━━━━━\u001b[0m \u001b[32m288.3/288.3 kB\u001b[0m \u001b[31m4.6 MB/s\u001b[0m eta \u001b[36m0:00:00\u001b[0m\n",
            "\u001b[?25hInstalling collected packages: bitarray\n",
            "Successfully installed bitarray-2.9.2\n"
          ]
        }
      ]
    },
    {
      "cell_type": "code",
      "execution_count": null,
      "metadata": {
        "id": "8z8qqyyzW3bM"
      },
      "outputs": [],
      "source": [
        "from heapq        import heappush, heappop, heapify\n",
        "from collections  import defaultdict\n",
        "from bitarray     import bitarray"
      ]
    },
    {
      "cell_type": "markdown",
      "source": [
        "# Gets the input data from the user to be compressed"
      ],
      "metadata": {
        "id": "1_UYBeOpaL4w"
      }
    },
    {
      "cell_type": "code",
      "source": [
        "text = input(\"Enter the text to be compressed: \")"
      ],
      "metadata": {
        "colab": {
          "base_uri": "https://localhost:8080/"
        },
        "id": "TKQU7oqbaSEZ",
        "outputId": "a65ce74c-3f0a-40e2-a13b-e959531841eb"
      },
      "execution_count": 42,
      "outputs": [
        {
          "name": "stdout",
          "output_type": "stream",
          "text": [
            "Enter the text to be compressed: happy happy\n"
          ]
        }
      ]
    },
    {
      "cell_type": "markdown",
      "source": [
        "# Creates a frequency analysis table using dictionary"
      ],
      "metadata": {
        "id": "_e1jCJhka8GW"
      }
    },
    {
      "cell_type": "code",
      "source": [
        "freq_analysis = defaultdict(int)\n",
        "for char in text:\n",
        "    freq_analysis[char] += 1\n",
        "\n",
        "print(freq_analysis)"
      ],
      "metadata": {
        "colab": {
          "base_uri": "https://localhost:8080/"
        },
        "id": "pUBlarF2bFqe",
        "outputId": "c03096d2-1556-4648-8284-539c637aabe7"
      },
      "execution_count": 43,
      "outputs": [
        {
          "output_type": "stream",
          "name": "stdout",
          "text": [
            "defaultdict(<class 'int'>, {'h': 2, 'a': 2, 'p': 4, 'y': 2, ' ': 1})\n"
          ]
        }
      ]
    },
    {
      "cell_type": "markdown",
      "source": [
        "# Creates Huffman Tree - Greedy algorithm, frquentlr used letters have shorter huffman codes"
      ],
      "metadata": {
        "id": "nbINEsRccPYm"
      }
    },
    {
      "cell_type": "code",
      "source": [
        "heap = [[fq, [sym, \"\"]] for sym, fq in freq_analysis.items()]\n",
        "\n",
        "print(heap)"
      ],
      "metadata": {
        "colab": {
          "base_uri": "https://localhost:8080/"
        },
        "id": "bISz8GrCfXjB",
        "outputId": "c3514600-67ab-4876-88e5-ec04c772342d"
      },
      "execution_count": 44,
      "outputs": [
        {
          "output_type": "stream",
          "name": "stdout",
          "text": [
            "[[2, ['h', '']], [2, ['a', '']], [4, ['p', '']], [2, ['y', '']], [1, [' ', '']]]\n"
          ]
        }
      ]
    },
    {
      "cell_type": "markdown",
      "source": [
        "# convert this list of lists into heap"
      ],
      "metadata": {
        "id": "ykeKT71ZgG8I"
      }
    },
    {
      "cell_type": "code",
      "source": [
        "heapify(heap)\n",
        "\n",
        "print(heap)"
      ],
      "metadata": {
        "colab": {
          "base_uri": "https://localhost:8080/"
        },
        "id": "inVqjzdBgNep",
        "outputId": "8cd680da-8bc2-41c7-f318-84de881cf992"
      },
      "execution_count": 45,
      "outputs": [
        {
          "output_type": "stream",
          "name": "stdout",
          "text": [
            "[[1, [' ', '']], [2, ['a', '']], [4, ['p', '']], [2, ['y', '']], [2, ['h', '']]]\n"
          ]
        }
      ]
    },
    {
      "cell_type": "code",
      "source": [
        "while len(heap) > 1:\n",
        "    right = heappop(heap)  # heappop - Pop and return the smallest item from the heap\n",
        "    print('right = ', right)\n",
        "    left = heappop(heap)\n",
        "    print('left = ', left)\n",
        "\n",
        "    for pair in right[1:]:\n",
        "        pair[1] = '0' + pair[1]   # add zero to all the right note\n",
        "        print(\"right pair\", pair)\n",
        "    for pair in left[1:]:\n",
        "        pair[1] = '1' + pair[1]    # add one to all the left note\n",
        "        print(\"left pair\", pair)\n",
        "    heappush(heap, [right[0] + left[0]] + right[1:] + left[1:])\n",
        "    print(heap)\n"
      ],
      "metadata": {
        "id": "OlADUEJ_hoFW",
        "colab": {
          "base_uri": "https://localhost:8080/"
        },
        "outputId": "889445f6-fefa-4a6c-8496-6ab42e4e17d7"
      },
      "execution_count": 46,
      "outputs": [
        {
          "output_type": "stream",
          "name": "stdout",
          "text": [
            "right =  [1, [' ', '']]\n",
            "left =  [2, ['a', '']]\n",
            "right pair [' ', '0']\n",
            "left pair ['a', '1']\n",
            "[[2, ['h', '']], [2, ['y', '']], [4, ['p', '']], [3, [' ', '0'], ['a', '1']]]\n",
            "right =  [2, ['h', '']]\n",
            "left =  [2, ['y', '']]\n",
            "right pair ['h', '0']\n",
            "left pair ['y', '1']\n",
            "[[3, [' ', '0'], ['a', '1']], [4, ['p', '']], [4, ['h', '0'], ['y', '1']]]\n",
            "right =  [3, [' ', '0'], ['a', '1']]\n",
            "left =  [4, ['h', '0'], ['y', '1']]\n",
            "right pair [' ', '00']\n",
            "right pair ['a', '01']\n",
            "left pair ['h', '10']\n",
            "left pair ['y', '11']\n",
            "[[4, ['p', '']], [7, [' ', '00'], ['a', '01'], ['h', '10'], ['y', '11']]]\n",
            "right =  [4, ['p', '']]\n",
            "left =  [7, [' ', '00'], ['a', '01'], ['h', '10'], ['y', '11']]\n",
            "right pair ['p', '0']\n",
            "left pair [' ', '100']\n",
            "left pair ['a', '101']\n",
            "left pair ['h', '110']\n",
            "left pair ['y', '111']\n",
            "[[11, ['p', '0'], [' ', '100'], ['a', '101'], ['h', '110'], ['y', '111']]]\n"
          ]
        }
      ]
    },
    {
      "cell_type": "code",
      "source": [
        "huffman_list = right[1:] + left[1:]\n",
        "print(huffman_list)\n",
        "\n",
        "huffman_dict = {a[0]:bitarray(str(a[1])) for a in huffman_list}\n",
        "print(huffman_dict)"
      ],
      "metadata": {
        "colab": {
          "base_uri": "https://localhost:8080/"
        },
        "id": "DpmbUfqZu1Xq",
        "outputId": "0d4816c6-4188-48fb-ff3a-5296cbc5eb8e"
      },
      "execution_count": 47,
      "outputs": [
        {
          "output_type": "stream",
          "name": "stdout",
          "text": [
            "[['p', '0'], [' ', '100'], ['a', '101'], ['h', '110'], ['y', '111']]\n",
            "{'p': bitarray('0'), ' ': bitarray('100'), 'a': bitarray('101'), 'h': bitarray('110'), 'y': bitarray('111')}\n"
          ]
        }
      ]
    },
    {
      "cell_type": "markdown",
      "source": [
        "# Huffman encoding"
      ],
      "metadata": {
        "id": "vk0WTiZKvjDE"
      }
    },
    {
      "cell_type": "code",
      "source": [
        "encoded_text = bitarray()\n",
        "encoded_text.encode(huffman_dict, text)\n",
        "\n",
        "print(encoded_text)"
      ],
      "metadata": {
        "colab": {
          "base_uri": "https://localhost:8080/"
        },
        "id": "_BaSRmlFvu2U",
        "outputId": "68c681c4-47ef-46fc-8f9b-4367b4ef6a02"
      },
      "execution_count": 48,
      "outputs": [
        {
          "output_type": "stream",
          "name": "stdout",
          "text": [
            "bitarray('1101010011110011010100111')\n"
          ]
        }
      ]
    },
    {
      "cell_type": "markdown",
      "source": [
        "# Padding"
      ],
      "metadata": {
        "id": "sWpk_yqVxD-5"
      }
    },
    {
      "cell_type": "code",
      "source": [
        "padding = 8 - (len(encoded_text) % 8)\n",
        "\n",
        "with open('compressed_file.bin', 'wb') as w:\n",
        "    encoded_text.tofile(w)\n"
      ],
      "metadata": {
        "id": "Dm82KV52xGd_"
      },
      "execution_count": 49,
      "outputs": []
    },
    {
      "cell_type": "markdown",
      "source": [
        "# Decoding"
      ],
      "metadata": {
        "id": "giPh36JbxNAw"
      }
    },
    {
      "cell_type": "code",
      "source": [
        "decoded_text = bitarray()\n",
        "\n",
        "with open('compressed_file.bin', 'rb') as r:\n",
        "    decoded_text.fromfile(r)\n",
        "\n",
        "decoded_text = decoded_text[:-padding] # remove padding\n",
        "\n",
        "decoded_text = decoded_text.decode(huffman_dict)\n",
        "decoded_text = ''.join(decoded_text)\n",
        "\n",
        "print(decoded_text)"
      ],
      "metadata": {
        "colab": {
          "base_uri": "https://localhost:8080/"
        },
        "id": "LRImwWnlxQRG",
        "outputId": "09741bd0-5f69-4c66-f2c8-bc4edc303823"
      },
      "execution_count": 50,
      "outputs": [
        {
          "output_type": "stream",
          "name": "stdout",
          "text": [
            "happy happy\n"
          ]
        }
      ]
    },
    {
      "cell_type": "code",
      "source": [
        "with open('uncompress.bin', 'w') as w:\n",
        "    w.write(text)"
      ],
      "metadata": {
        "id": "0sIHd1xQxc1K"
      },
      "execution_count": 52,
      "outputs": []
    }
  ]
}